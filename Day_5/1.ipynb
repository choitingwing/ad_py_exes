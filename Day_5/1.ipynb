{
 "cells": [
  {
   "cell_type": "markdown",
   "id": "f9b9819c-31bd-410b-a704-8e75e848ff6c",
   "metadata": {},
   "source": [
    "# Scipy"
   ]
  },
  {
   "cell_type": "code",
   "execution_count": 5,
   "id": "118d108f-9ddf-42b9-9297-b3667508ce85",
   "metadata": {},
   "outputs": [],
   "source": [
    "# import \n",
    "import numpy as np\n",
    "from scipy import linalg"
   ]
  },
  {
   "cell_type": "code",
   "execution_count": 8,
   "id": "f0bfbf61-3a64-41ce-acb4-8212e1e92771",
   "metadata": {},
   "outputs": [
    {
     "name": "stdout",
     "output_type": "stream",
     "text": [
      "(3, 3) (3,)\n"
     ]
    }
   ],
   "source": [
    "A = np.array([[1, -2, 3], [4, 5, 6], [7, 1, 9]])\n",
    "B = np.array([1, 2, 3])\n",
    "print(A.shape,B.shape)"
   ]
  },
  {
   "cell_type": "code",
   "execution_count": 10,
   "id": "eddde417-d9c7-4f22-b8d1-5a5129a7aa64",
   "metadata": {},
   "outputs": [
    {
     "data": {
      "text/plain": [
       "array([2.32788699e-17, 3.58136460e-18, 3.33333333e-01])"
      ]
     },
     "execution_count": 10,
     "metadata": {},
     "output_type": "execute_result"
    }
   ],
   "source": [
    "C = linalg.solve(A, B)\n",
    "C"
   ]
  },
  {
   "cell_type": "code",
   "execution_count": 13,
   "id": "0d0bfd8d-12c1-4649-8778-5eeb697f6f87",
   "metadata": {},
   "outputs": [
    {
     "data": {
      "text/plain": [
       "array([1., 2., 3.])"
      ]
     },
     "execution_count": 13,
     "metadata": {},
     "output_type": "execute_result"
    }
   ],
   "source": [
    "d = np.matmul(A,C)\n",
    "d"
   ]
  },
  {
   "cell_type": "code",
   "execution_count": 17,
   "id": "7ff7c91b-9ccb-4e66-9537-a1796c7a1a1a",
   "metadata": {},
   "outputs": [
    {
     "data": {
      "text/plain": [
       "array([[8.2244002 , 4.24364018, 8.54429832],\n",
       "       [9.58616085, 7.50224709, 5.60351784],\n",
       "       [8.86792752, 2.69831819, 4.95968685]])"
      ]
     },
     "execution_count": 17,
     "metadata": {},
     "output_type": "execute_result"
    }
   ],
   "source": [
    "B2 = 10*np.random.rand(3,3)\n",
    "B2\n",
    "C2 = linalg.solve(A, B2)\n",
    "d2 = np.matmul(A,C2)\n",
    "d2"
   ]
  },
  {
   "cell_type": "code",
   "execution_count": 22,
   "id": "158559e7-7609-4a72-8209-0323f94c8f17",
   "metadata": {},
   "outputs": [
    {
     "name": "stdout",
     "output_type": "stream",
     "text": [
      "[-1.13261772+0.j 10.67269524+0.j  5.45992248+0.j]\n",
      "[[-0.8215735   0.05324273  0.25636602]\n",
      " [-0.02150583  0.74309552 -0.93563185]\n",
      " [ 0.56969684  0.66706391 -0.24263037]]\n"
     ]
    }
   ],
   "source": [
    "f = linalg.eig(A)\n",
    "print(f[0])\n",
    "print(f[1])"
   ]
  },
  {
   "cell_type": "code",
   "execution_count": 24,
   "id": "f5d78dda-6cca-4ba3-b60f-22dc6d2f6b26",
   "metadata": {},
   "outputs": [
    {
     "name": "stdout",
     "output_type": "stream",
     "text": [
      "[[-0.59090909 -0.31818182  0.40909091]\n",
      " [-0.09090909  0.18181818 -0.09090909]\n",
      " [ 0.46969697  0.22727273 -0.1969697 ]] -66.0\n"
     ]
    }
   ],
   "source": [
    "g1 = linalg.inv(A)\n",
    "g2 = linalg.det(A)\n",
    "print(g1, g2)"
   ]
  },
  {
   "cell_type": "code",
   "execution_count": 26,
   "id": "d2ad6871-93f4-4201-b846-04926574f824",
   "metadata": {},
   "outputs": [
    {
     "name": "stdout",
     "output_type": "stream",
     "text": [
      "18.0 14.173659390884978 17.0\n"
     ]
    }
   ],
   "source": [
    "h1 = linalg.norm(A, ord = 1)\n",
    "h2 = linalg.norm(A, ord = 2)\n",
    "h_inf = linalg.norm(A, ord = np.inf)\n",
    "print(h1, h2, h_inf)"
   ]
  },
  {
   "cell_type": "markdown",
   "id": "a7671c67-03ef-4f6c-b270-e5a0eab6e41e",
   "metadata": {},
   "source": [
    "## Statistics"
   ]
  },
  {
   "cell_type": "code",
   "execution_count": 28,
   "id": "bbe2d387-4e81-4baa-8075-b05710503325",
   "metadata": {},
   "outputs": [],
   "source": [
    "from scipy.stats import poisson\n",
    "import matplotlib.pyplot as plt\n"
   ]
  },
  {
   "cell_type": "code",
   "execution_count": 29,
   "id": "1933c530-aac9-4212-851b-c1ce774ed642",
   "metadata": {},
   "outputs": [
    {
     "data": {
      "image/png": "[encoded data removed]",
      "text/plain": [
       "<Figure size 864x288 with 3 Axes>"
      ]
     },
     "metadata": {
      "needs_background": "light"
     },
     "output_type": "display_data"
    }
   ],
   "source": [
    "lambda_parameter = 3\n",
    "\n",
    "# Create a Poisson random variable\n",
    "rv_poisson = poisson(mu=lambda_parameter)\n",
    "\n",
    "# Generate random samples\n",
    "random_samples = rv_poisson.rvs(size=1000)\n",
    "\n",
    "# Plot Probability Mass Function (PMF)\n",
    "x_values = np.arange(0, np.max(random_samples) + 1)\n",
    "pmf_values = rv_poisson.pmf(x_values)\n",
    "\n",
    "plt.figure(figsize=(12, 4))\n",
    "\n",
    "plt.subplot(1, 3, 1)\n",
    "plt.bar(x_values, pmf_values, width=0.5, align='center')\n",
    "plt.title('Probability Mass Function (PMF)')\n",
    "plt.xlabel('X')\n",
    "plt.ylabel('Probability')\n",
    "\n",
    "# Plot Cumulative Distribution Function (CDF)\n",
    "cdf_values = rv_poisson.cdf(x_values)\n",
    "\n",
    "plt.subplot(1, 3, 2)\n",
    "plt.step(x_values, cdf_values, where='post')\n",
    "plt.title('Cumulative Distribution Function (CDF)')\n",
    "plt.xlabel('X')\n",
    "plt.ylabel('Cumulative Probability')\n",
    "\n",
    "# Plot Histogram of 1000 random realizations\n",
    "plt.subplot(1, 3, 3)\n",
    "plt.hist(random_samples, bins=np.arange(0, np.max(random_samples) + 1) - 0.5, density=True, edgecolor='black')\n",
    "plt.title('Histogram of 1000 Random Realizations')\n",
    "plt.xlabel('X')\n",
    "plt.ylabel('Frequency')\n",
    "\n",
    "plt.tight_layout()\n",
    "plt.show()"
   ]
  },
  {
   "cell_type": "code",
   "execution_count": 30,
   "id": "ac6b4434-e9aa-41a2-9fb0-0a0d2404770f",
   "metadata": {},
   "outputs": [
    {
     "data": {
      "image/png": "[encoded data removed]",
      "text/plain": [
       "<Figure size 864x288 with 3 Axes>"
      ]
     },
     "metadata": {
      "needs_background": "light"
     },
     "output_type": "display_data"
    }
   ],
   "source": [
    "from scipy.stats import norm\n",
    "\n",
    "# Set the mean and standard deviation for the normal distribution\n",
    "mean = 0\n",
    "std_dev = 1\n",
    "\n",
    "# Create a normal (Gaussian) random variable\n",
    "rv_normal = norm(loc=mean, scale=std_dev)\n",
    "\n",
    "# Generate random samples\n",
    "random_samples = rv_normal.rvs(size=1000)\n",
    "\n",
    "# Plot Probability Density Function (PDF)\n",
    "x_values = np.linspace(mean - 4 * std_dev, mean + 4 * std_dev, 1000)\n",
    "pdf_values = rv_normal.pdf(x_values)\n",
    "\n",
    "plt.figure(figsize=(12, 4))\n",
    "\n",
    "plt.subplot(1, 3, 1)\n",
    "plt.plot(x_values, pdf_values, label='PDF')\n",
    "plt.title('Probability Density Function (PDF)')\n",
    "plt.xlabel('X')\n",
    "plt.ylabel('Probability Density')\n",
    "plt.legend()\n",
    "\n",
    "# Plot Cumulative Distribution Function (CDF)\n",
    "cdf_values = rv_normal.cdf(x_values)\n",
    "\n",
    "plt.subplot(1, 3, 2)\n",
    "plt.plot(x_values, cdf_values, label='CDF')\n",
    "plt.title('Cumulative Distribution Function (CDF)')\n",
    "plt.xlabel('X')\n",
    "plt.ylabel('Cumulative Probability')\n",
    "plt.legend()\n",
    "\n",
    "# Plot Histogram of 1000 random realizations\n",
    "plt.subplot(1, 3, 3)\n",
    "plt.hist(random_samples, bins=30, density=True, edgecolor='black')\n",
    "plt.title('Histogram of 1000 Random Realizations')\n",
    "plt.xlabel('X')\n",
    "plt.ylabel('Frequency')\n",
    "\n",
    "plt.tight_layout()\n",
    "plt.show()\n"
   ]
  },
  {
   "cell_type": "code",
   "execution_count": 31,
   "id": "fb4f4ba1-f58f-4072-944c-1af503afc17c",
   "metadata": {},
   "outputs": [
    {
     "data": {
      "image/png": "[encoded data removed]",
      "text/plain": [
       "<Figure size 432x288 with 1 Axes>"
      ]
     },
     "metadata": {
      "needs_background": "light"
     },
     "output_type": "display_data"
    },
    {
     "name": "stdout",
     "output_type": "stream",
     "text": [
      "T-Statistic: 0.6780325000728675\n",
      "P-value: 0.49782959926852244\n",
      "The two sets of data have similar means (fail to reject the null hypothesis)\n"
     ]
    }
   ],
   "source": [
    "\n",
    "from scipy.stats import ttest_ind\n",
    "\n",
    "\n",
    "# Generate two sets of independent random data\n",
    "data1 = np.random.normal(loc=0, scale=1, size=1000)\n",
    "data2 = np.random.normal(loc=0, scale=1, size=1000)\n",
    "\n",
    "# Plot histograms for visual inspection\n",
    "plt.hist(data1, bins=30, alpha=0.5, label='Data 1')\n",
    "plt.hist(data2, bins=30, alpha=0.5, label='Data 2')\n",
    "plt.legend()\n",
    "plt.title('Histograms of Two Sets of Random Data')\n",
    "plt.show()\n",
    "\n",
    "# Perform the independent two-sample t-test\n",
    "statistic, p_value = ttest_ind(data1, data2)\n",
    "\n",
    "# Print the test results\n",
    "print(f\"T-Statistic: {statistic}\")\n",
    "print(f\"P-value: {p_value}\")\n",
    "\n",
    "# Interpret the results\n",
    "alpha = 0.05  # significance level\n",
    "if p_value > alpha:\n",
    "    print(\"The two sets of data have similar means (fail to reject the null hypothesis)\")\n",
    "else:\n",
    "    print(\"The two sets of data have different means (reject the null hypothesis)\")\n"
   ]
  }
 ],
 "metadata": {
  "kernelspec": {
   "display_name": "Python 3 (ipykernel)",
   "language": "python",
   "name": "python3"
  },
  "language_info": {
   "codemirror_mode": {
    "name": "ipython",
    "version": 3
   },
   "file_extension": ".py",
   "mimetype": "text/x-python",
   "name": "python",
   "nbconvert_exporter": "python",
   "pygments_lexer": "ipython3",
   "version": "3.9.12"
  }
 },
 "nbformat": 4,
 "nbformat_minor": 5
}
