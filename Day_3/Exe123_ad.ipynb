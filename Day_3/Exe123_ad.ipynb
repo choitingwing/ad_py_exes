{
 "cells": [
  {
   "cell_type": "code",
   "execution_count": 4,
   "id": "bd82b2df-39be-4102-90d6-0120ef6f457c",
   "metadata": {},
   "outputs": [],
   "source": [
    "# 1."
   ]
  },
  {
   "cell_type": "code",
   "execution_count": 1,
   "id": "e9e56e5f-c210-46c9-8128-59c3b151965c",
   "metadata": {},
   "outputs": [],
   "source": [
    "from classroom import Person, Student"
   ]
  },
  {
   "cell_type": "code",
   "execution_count": 19,
   "id": "fdd6e804-d577-4d16-a8f5-20196973ba85",
   "metadata": {},
   "outputs": [],
   "source": [
    "me = Person('Benedikt', 'Daurer') "
   ]
  },
  {
   "cell_type": "code",
   "execution_count": 2,
   "id": "3f9996a2-d4ec-4825-b33b-7551a0b89842",
   "metadata": {},
   "outputs": [],
   "source": [
    "me = Student('Benedikt', 'Daurer', 'physics') "
   ]
  },
  {
   "cell_type": "code",
   "execution_count": 3,
   "id": "50649aa1-a167-4ce5-9ea6-c8b096564283",
   "metadata": {},
   "outputs": [
    {
     "name": "stdout",
     "output_type": "stream",
     "text": [
      "BenediktDaurer studying in physics\n"
     ]
    }
   ],
   "source": [
    "me.fullname_sub() "
   ]
  },
  {
   "cell_type": "code",
   "execution_count": 5,
   "id": "22531ffc-2806-4715-a48f-9351ebbe0be1",
   "metadata": {},
   "outputs": [],
   "source": [
    "# 2. "
   ]
  },
  {
   "cell_type": "code",
   "execution_count": 6,
   "id": "04882ece-fa4f-43f3-8c37-6b447efa3d16",
   "metadata": {},
   "outputs": [],
   "source": [
    "import numpy as np"
   ]
  },
  {
   "cell_type": "code",
   "execution_count": 9,
   "id": "fc7d33b8-bbc4-44f0-aae4-0b42b7b7353c",
   "metadata": {},
   "outputs": [
    {
     "data": {
      "text/plain": [
       "array([0., 0., 0., 0., 1., 0., 0., 0., 0., 0.])"
      ]
     },
     "execution_count": 9,
     "metadata": {},
     "output_type": "execute_result"
    }
   ],
   "source": [
    "a = np.zeros(10)\n",
    "a[4] = 1\n",
    "a"
   ]
  },
  {
   "cell_type": "code",
   "execution_count": 11,
   "id": "516817f8-6d78-4b92-a9ce-7ca0f8009c2a",
   "metadata": {},
   "outputs": [
    {
     "data": {
      "text/plain": [
       "array([10, 11, 12, 13, 14, 15, 16, 17, 18, 19, 20, 21, 22, 23, 24, 25, 26,\n",
       "       27, 28, 29, 30, 31, 32, 33, 34, 35, 36, 37, 38, 39, 40, 41, 42, 43,\n",
       "       44, 45, 46, 47, 48, 49])"
      ]
     },
     "execution_count": 11,
     "metadata": {},
     "output_type": "execute_result"
    }
   ],
   "source": [
    "b = np.arange(10,50)\n",
    "b"
   ]
  },
  {
   "cell_type": "code",
   "execution_count": 15,
   "id": "fa48cbda-c34d-45e5-84a6-2f93fccd3840",
   "metadata": {},
   "outputs": [
    {
     "name": "stdout",
     "output_type": "stream",
     "text": [
      "[0.07737668 0.14271986 0.58379533 0.29725885 0.18691967 0.00553968\n",
      " 0.45113412 0.307173   0.15376651 0.35683015]\n"
     ]
    },
    {
     "data": {
      "text/plain": [
       "array([0.35683015, 0.15376651, 0.307173  , 0.45113412, 0.00553968,\n",
       "       0.18691967, 0.29725885, 0.58379533, 0.14271986, 0.07737668])"
      ]
     },
     "execution_count": 15,
     "metadata": {},
     "output_type": "execute_result"
    }
   ],
   "source": [
    "c = np.random.rand(10)\n",
    "print(c)\n",
    "c = c[::-1]\n",
    "c"
   ]
  },
  {
   "cell_type": "code",
   "execution_count": 19,
   "id": "bc3ff069-cca8-4bf3-8e23-804de7c05443",
   "metadata": {},
   "outputs": [
    {
     "data": {
      "text/plain": [
       "array([[0, 1, 2],\n",
       "       [3, 4, 5],\n",
       "       [6, 7, 8]])"
      ]
     },
     "execution_count": 19,
     "metadata": {},
     "output_type": "execute_result"
    }
   ],
   "source": [
    "d = np.arange(0,9).reshape(3,3)\n",
    "d"
   ]
  },
  {
   "cell_type": "code",
   "execution_count": 38,
   "id": "e3258344-55cb-4e26-8e86-57ddc3c6750c",
   "metadata": {},
   "outputs": [
    {
     "data": {
      "text/plain": [
       "(array([0, 1, 4]),)"
      ]
     },
     "execution_count": 38,
     "metadata": {},
     "output_type": "execute_result"
    }
   ],
   "source": [
    "e = np.array([1,2,0,0,4,0])\n",
    "e2= e!=0\n",
    "e3 = np.where(e2)\n",
    "e3"
   ]
  },
  {
   "cell_type": "code",
   "execution_count": 39,
   "id": "a34d03ef-e2aa-43c1-869e-80fa079d7ee5",
   "metadata": {},
   "outputs": [
    {
     "name": "stdout",
     "output_type": "stream",
     "text": [
      "[0.08201095 0.39836921 0.79935203 0.55919818 0.94962155 0.53395239\n",
      " 0.05096434 0.95490438 0.7292288  0.12031925 0.69174399 0.76982521\n",
      " 0.12455452 0.71211082 0.28576686 0.54138091 0.19116612 0.06620927\n",
      " 0.6516916  0.30194428 0.19710865 0.98321823 0.74547664 0.90741644\n",
      " 0.27357484 0.645809   0.0253466  0.05778183 0.26801871 0.44409037]\n",
      "0.4687385327262248\n"
     ]
    }
   ],
   "source": [
    "f = np.random.random(30)\n",
    "print(f)\n",
    "print(np.mean(f))"
   ]
  },
  {
   "cell_type": "code",
   "execution_count": 54,
   "id": "6245abc8-c49f-495b-8cff-e0c8eddb1e02",
   "metadata": {},
   "outputs": [
    {
     "data": {
      "text/plain": [
       "array([[1., 1., 1.],\n",
       "       [1., 0., 1.],\n",
       "       [1., 1., 1.]])"
      ]
     },
     "execution_count": 54,
     "metadata": {},
     "output_type": "execute_result"
    }
   ],
   "source": [
    "n = 3\n",
    "g = np.ones([n,n])\n",
    "g[1,1]= 0\n",
    "g"
   ]
  },
  {
   "cell_type": "code",
   "execution_count": 75,
   "id": "02188b18-61fc-4f63-8ea7-bd6def800268",
   "metadata": {},
   "outputs": [
    {
     "data": {
      "text/plain": [
       "array([[0, 1, 0, 1, 0, 1, 0, 1],\n",
       "       [1, 0, 1, 0, 1, 0, 1, 0],\n",
       "       [0, 1, 0, 1, 0, 1, 0, 1],\n",
       "       [1, 0, 1, 0, 1, 0, 1, 0],\n",
       "       [0, 1, 0, 1, 0, 1, 0, 1],\n",
       "       [1, 0, 1, 0, 1, 0, 1, 0],\n",
       "       [0, 1, 0, 1, 0, 1, 0, 1],\n",
       "       [1, 0, 1, 0, 1, 0, 1, 0]])"
      ]
     },
     "execution_count": 75,
     "metadata": {},
     "output_type": "execute_result"
    }
   ],
   "source": [
    "# i\n",
    "# Create an 8x8 matrix filled with zeros\n",
    "checkerboard_matrix = np.zeros((8, 8), dtype=int)\n",
    "\n",
    "# Set alternate elements to 1 to create the checkerboard pattern\n",
    "checkerboard_matrix[1::2, ::2] = 1  # Odd rows, even columns\n",
    "checkerboard_matrix[::2, 1::2] = 1  # Even rows, odd columns\n",
    "checkerboard_matrix"
   ]
  },
  {
   "cell_type": "code",
   "execution_count": 76,
   "id": "ee197e60-ff11-4161-84d9-9199123df085",
   "metadata": {},
   "outputs": [
    {
     "name": "stdout",
     "output_type": "stream",
     "text": [
      "[ 0  1  2  3  4  5  6  7  8  9 10]\n",
      "[ 0  1  2 -3 -4 -5 -6 -7  8  9 10]\n"
     ]
    }
   ],
   "source": [
    "j = np.arange(11)\n",
    "print(j)\n",
    "j[3:8]=-1*j[3:8]\n",
    "print(j)"
   ]
  },
  {
   "cell_type": "code",
   "execution_count": 78,
   "id": "87b7a1d6-c3f6-4ed5-aed1-208a45c35c28",
   "metadata": {},
   "outputs": [
    {
     "name": "stdout",
     "output_type": "stream",
     "text": [
      "[0.96866842 0.24130982 0.49451848 0.22160247 0.48939213 0.8549392\n",
      " 0.18049982 0.3516066  0.34959061 0.35164957]\n",
      "[0.18049982 0.22160247 0.24130982 0.34959061 0.3516066  0.35164957\n",
      " 0.48939213 0.49451848 0.8549392  0.96866842]\n"
     ]
    }
   ],
   "source": [
    "k = np.random.random(10)\n",
    "print(k)\n",
    "k = np.sort(k)\n",
    "print(k)"
   ]
  },
  {
   "cell_type": "code",
   "execution_count": 80,
   "id": "d6aa6fd1-e6f2-45d2-a05b-7ff90f293cad",
   "metadata": {},
   "outputs": [
    {
     "name": "stdout",
     "output_type": "stream",
     "text": [
      "[1 0 1 0 0] [1 0 0 1 0]\n",
      "[ True  True False False  True]\n"
     ]
    }
   ],
   "source": [
    "i1 = np.random.randint(0,2,5)\n",
    "i2 = np.random.randint(0,2,5)\n",
    "print(i1,i2)\n",
    "equal = i1==i2\n",
    "print(equal)"
   ]
  },
  {
   "cell_type": "code",
   "execution_count": 83,
   "id": "4c7aa361-1671-4962-8eea-632f21de6eba",
   "metadata": {},
   "outputs": [
    {
     "name": "stdout",
     "output_type": "stream",
     "text": [
      "int32\n",
      "float32\n"
     ]
    }
   ],
   "source": [
    "m = np.arange(10, dtype=np.int32)\n",
    "print(m.dtype)\n",
    "m = m.astype(np.float32)\n",
    "print(m.dtype)"
   ]
  },
  {
   "cell_type": "code",
   "execution_count": 88,
   "id": "51977105-0834-4a66-9b6f-65036df25c32",
   "metadata": {},
   "outputs": [
    {
     "name": "stdout",
     "output_type": "stream",
     "text": [
      "[[0 1 2]\n",
      " [3 4 5]\n",
      " [6 7 8]]\n",
      "[[1 2 3]\n",
      " [4 5 6]\n",
      " [7 8 9]]\n",
      "[[ 18  21  24]\n",
      " [ 54  66  78]\n",
      " [ 90 111 132]]\n",
      "[ 18  66 132]\n"
     ]
    }
   ],
   "source": [
    "n1 = np.arange(9).reshape(3,3)\n",
    "print(n1)\n",
    "n2 = n1 + 1\n",
    "print(n2)\n",
    "n3 = np.dot(n1,n2)\n",
    "print(n3)\n",
    "n4 = np.diagonal(n3)\n",
    "print(n4)"
   ]
  },
  {
   "cell_type": "code",
   "execution_count": 89,
   "id": "f92f4976-e0d9-456e-afd8-d98ade9b223b",
   "metadata": {},
   "outputs": [],
   "source": [
    "# 3\n",
    "a = np.random.random((1000000))\n",
    "b = list(a)"
   ]
  },
  {
   "cell_type": "code",
   "execution_count": 90,
   "id": "5bb7e05c-d141-4371-88aa-4b32fdd467a5",
   "metadata": {},
   "outputs": [
    {
     "name": "stdout",
     "output_type": "stream",
     "text": [
      "185 µs ± 227 ns per loop (mean ± std. dev. of 7 runs, 10000 loops each)\n"
     ]
    }
   ],
   "source": [
    "%timeit a.sum()"
   ]
  },
  {
   "cell_type": "code",
   "execution_count": 91,
   "id": "90519f04-6b1e-4d34-9d0d-4a1256123c5f",
   "metadata": {},
   "outputs": [
    {
     "name": "stdout",
     "output_type": "stream",
     "text": [
      "41 ms ± 270 µs per loop (mean ± std. dev. of 7 runs, 10 loops each)\n"
     ]
    }
   ],
   "source": [
    "%timeit sum(b)"
   ]
  },
  {
   "cell_type": "code",
   "execution_count": 3,
   "id": "5e99cb15-445a-41fd-9544-884307a21809",
   "metadata": {},
   "outputs": [],
   "source": [
    "import numpy as np"
   ]
  },
  {
   "cell_type": "code",
   "execution_count": 99,
   "id": "2ccd1dcd-32c7-41cd-9705-0bc8c16011ab",
   "metadata": {},
   "outputs": [
    {
     "data": {
      "text/plain": [
       "(250, 251)"
      ]
     },
     "execution_count": 99,
     "metadata": {},
     "output_type": "execute_result"
    }
   ],
   "source": [
    "N = 250\n",
    "X = np.random.randint(0, 100, (N,N+1) )\n",
    "X.shape"
   ]
  },
  {
   "cell_type": "markdown",
   "id": "88e9a74f-bc81-4fa7-b71d-a1d34d041d20",
   "metadata": {},
   "source": [
    "# Ad Exe"
   ]
  },
  {
   "cell_type": "code",
   "execution_count": 1,
   "id": "8c883a15-5894-446c-883a-062b65dcbf01",
   "metadata": {},
   "outputs": [],
   "source": [
    "XYZ = [[1.0, 2.0, 10],\n",
    " [3.0, 4.0, 20],\n",
    " [5.0, 6.0, 30],\n",
    " [7.0, 8.0, 40]]\n",
    "XYZ = np.array(XYZ)"
   ]
  },
  {
   "cell_type": "code",
   "execution_count": 10,
   "id": "aab2fbd7-dceb-4faf-a133-c5704f5e7d4c",
   "metadata": {},
   "outputs": [
    {
     "data": {
      "text/plain": [
       "array([[0.1       , 0.2       , 1.        ],\n",
       "       [0.15      , 0.2       , 1.        ],\n",
       "       [0.16666667, 0.2       , 1.        ],\n",
       "       [0.175     , 0.2       , 1.        ]])"
      ]
     },
     "execution_count": 10,
     "metadata": {},
     "output_type": "execute_result"
    }
   ],
   "source": [
    "XYZ_n = XYZ/XYZ[:,2][:, np.newaxis]\n",
    "XYZ_n"
   ]
  },
  {
   "cell_type": "code",
   "execution_count": 16,
   "id": "7148f5ba-282b-41ce-bac0-145ec735caad",
   "metadata": {},
   "outputs": [
    {
     "data": {
      "text/plain": [
       "array([1., 5., 9.])"
      ]
     },
     "execution_count": 16,
     "metadata": {},
     "output_type": "execute_result"
    }
   ],
   "source": [
    "ad_b = np.array([[1.0, 2.0, 3.0],\n",
    "                [4.0, 5.0, 6.0],\n",
    "                [7.0, 8.0, 9.0]])\n",
    "n = [0,1,2] # np.arange(3)\n",
    "ad_b2 = ad_b[[0,1,2],n]#ad_b[n,n]\n",
    "ad_b2"
   ]
  },
  {
   "cell_type": "code",
   "execution_count": 39,
   "id": "2f3ed5f9-14ba-4170-aaf5-895975e35866",
   "metadata": {},
   "outputs": [
    {
     "name": "stdout",
     "output_type": "stream",
     "text": [
      "[[0.89444363 0.86266667 0.42295712]\n",
      " [0.46719113 0.0268475  0.56848079]\n",
      " [0.52903068 0.38673232 0.74894523]\n",
      " [0.90152315 0.9826787  0.67276395]\n",
      " [0.56852088 0.84214621 0.08167722]\n",
      " [0.31566566 0.29173595 0.49435568]\n",
      " [0.29222208 0.8357777  0.13855153]\n",
      " [0.29971147 0.30784781 0.20350246]\n",
      " [0.42680551 0.72422164 0.93936465]\n",
      " [0.92128384 0.90669035 0.80331474]]\n",
      "[[0.14444363 0.11266667 0.32704288]\n",
      " [0.28280887 0.7231525  0.18151921]\n",
      " [0.22096932 0.36326768 0.00105477]\n",
      " [0.15152315 0.2326787  0.07723605]\n",
      " [0.18147912 0.09214621 0.66832278]\n",
      " [0.43433434 0.45826405 0.25564432]\n",
      " [0.45777792 0.0857777  0.61144847]\n",
      " [0.45028853 0.44215219 0.54649754]\n",
      " [0.32319449 0.02577836 0.18936465]\n",
      " [0.17128384 0.15669035 0.05331474]]\n",
      "[1 2 2 2 1 2 1 1 1 2]\n"
     ]
    },
    {
     "data": {
      "text/plain": [
       "array([0.86266667, 0.56848079, 0.74894523, 0.67276395, 0.84214621,\n",
       "       0.49435568, 0.8357777 , 0.30784781, 0.72422164, 0.80331474])"
      ]
     },
     "execution_count": 39,
     "metadata": {},
     "output_type": "execute_result"
    }
   ],
   "source": [
    "ad_c = np.random.rand(10,3)\n",
    "print(ad_c)\n",
    "ad_c2 = np.abs(ad_c-0.75)\n",
    "print(ad_c2)\n",
    "ad_c3 = np.argmin(ad_c2, axis =1)\n",
    "print(ad_c3)\n",
    "ad_c4 = ad_c[np.arange(10),ad_c3] #\n",
    "ad_c4"
   ]
  },
  {
   "cell_type": "code",
   "execution_count": 40,
   "id": "0c7bd0b1-ab17-42e8-a1cd-61dc55257382",
   "metadata": {},
   "outputs": [
    {
     "data": {
      "text/plain": [
       "array([[0., 0., 0., 0., 0., 0., 0., 0.],\n",
       "       [0., 0., 0., 0., 0., 0., 0., 0.],\n",
       "       [0., 0., 0., 0., 0., 0., 0., 0.]])"
      ]
     },
     "execution_count": 40,
     "metadata": {},
     "output_type": "execute_result"
    }
   ],
   "source": [
    "x = np.empty((10, 8, 6))\n",
    "\n",
    "idx0 = np.zeros((3, 8)).astype(int)\n",
    "idx1 = np.zeros((3, 1)).astype(int)\n",
    "idx2 = np.zeros((1, 1)).astype(int)\n",
    "\n",
    "x[idx0, idx1, idx2]"
   ]
  },
  {
   "cell_type": "code",
   "execution_count": 41,
   "id": "d29c8c24-631e-4033-917d-9740db78bf53",
   "metadata": {},
   "outputs": [
    {
     "data": {
      "text/plain": [
       "array([[ 0,  1,  2,  3],\n",
       "       [ 4,  5,  6,  7],\n",
       "       [ 8,  9, 10, 11]], dtype=int32)"
      ]
     },
     "execution_count": 41,
     "metadata": {},
     "output_type": "execute_result"
    }
   ],
   "source": [
    "x = np.arange(12, dtype=np.int32).reshape((3, 4))\n",
    "x"
   ]
  }
 ],
 "metadata": {
  "kernelspec": {
   "display_name": "Python 3 (ipykernel)",
   "language": "python",
   "name": "python3"
  },
  "language_info": {
   "codemirror_mode": {
    "name": "ipython",
    "version": 3
   },
   "file_extension": ".py",
   "mimetype": "text/x-python",
   "name": "python",
   "nbconvert_exporter": "python",
   "pygments_lexer": "ipython3",
   "version": "3.11.5"
  }
 },
 "nbformat": 4,
 "nbformat_minor": 5
}
